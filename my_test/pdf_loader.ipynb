{
 "cells": [
  {
   "attachments": {},
   "cell_type": "markdown",
   "metadata": {},
   "source": [
    "# PDF \n",
    "https://python.langchain.com/en/latest/modules/indexes/document_loaders/examples/pdf.html\n",
    "\n",
    "This covers how to load pdfs into a document format that we can use downstream.\n",
    "\n",
    "## Using PyPDF\n",
    "Load PDF using pypdf into array of documents, where each document contains the page content and metadata with page number."
   ]
  },
  {
   "cell_type": "code",
   "execution_count": 1,
   "metadata": {},
   "outputs": [
    {
     "name": "stdout",
     "output_type": "stream",
     "text": [
      "Note: you may need to restart the kernel to use updated packages.\n"
     ]
    }
   ],
   "source": [
    "pip install -U -q  pypdf"
   ]
  },
  {
   "cell_type": "code",
   "execution_count": 22,
   "metadata": {},
   "outputs": [
    {
     "name": "stdout",
     "output_type": "stream",
     "text": [
      "Note: you may need to restart the kernel to use updated packages.\n"
     ]
    }
   ],
   "source": [
    "pip install -U -q faiss-cpu"
   ]
  },
  {
   "cell_type": "code",
   "execution_count": 1,
   "metadata": {},
   "outputs": [],
   "source": [
    "import os\n",
    "import json\n",
    "from pathlib import Path\n",
    "from langchain.document_loaders import PyPDFLoader"
   ]
  },
  {
   "cell_type": "code",
   "execution_count": 2,
   "metadata": {},
   "outputs": [],
   "source": [
    "# Define the file path of the api_key.json file\n",
    "keys_path = Path.home()/\"Documents\"/\"api_keys\"/\"api_key.json\"\n",
    "\n",
    "# read .json file\n",
    "# Ensure you have your API key set in your environment per the README: https://github.com/openai/openai-python#usage\n",
    "\n",
    "with keys_path.open() as infile:\n",
    "    data = json.load(infile) # load the json file\n",
    "\n",
    "# Insert the OpenAI API key\n",
    "os.environ[\"OPENAI_API_KEY\"] = data['OPENAI_API_KEY']"
   ]
  },
  {
   "cell_type": "code",
   "execution_count": 3,
   "metadata": {},
   "outputs": [],
   "source": [
    "loader = PyPDFLoader(\"20210924 Abschlussbericht SubKanS_Gesamt.pdf\")\n",
    "pages = loader.load_and_split()"
   ]
  },
  {
   "attachments": {},
   "cell_type": "markdown",
   "metadata": {},
   "source": [
    "An advantage of this approach is that documents can be retrieved with page numbers."
   ]
  },
  {
   "cell_type": "code",
   "execution_count": 4,
   "metadata": {},
   "outputs": [
    {
     "name": "stdout",
     "output_type": "stream",
     "text": [
      "142: Entwicklung eines Standards zur Bewertung und Klassifizierung der baulichen  \n",
      "Substanz von Abwasserkanälen und Schächten – SubKanS  130 \n",
      "  \n",
      " \n",
      " \n",
      "2021 \n",
      " \n",
      "Bild 41:  Datenbank -Tool: Ansicht Berechnungen  \n",
      "Im Bereich „ Einstellungen“  können die Gewichtungen der verschi edenen Schadens klassen festgelegt \n",
      "werden. Einige Gewichtungen wurden fest hinterlegt  (siehe Tabelle 30). Darüber hinaus besteht die \n",
      "Möglichkeit, Klassengewichte und Startgewichte manuell einzugeben.  \n",
      "Tabelle 30: Vorgaben Klassengewicht KG  \n",
      "Schadens klasse  Linear  Exp_Halbiert  Exp_DWA  \n",
      "0 1 1 1 \n",
      "1 0,8 0,5 1 \n",
      "2 0,6 0,25 0,3 \n",
      "3 0,4 0,125  0,09 \n",
      "4 0,2 0,0625  0,027  \n",
      "5 0 0 0\n",
      "177: Entwicklung eines Standards zur Bewertung und Klassifizierung der baulichen  \n",
      "Substanz von Abwasserkanälen und Schächten – SubKanS  165 \n",
      "  \n",
      " \n",
      " \n",
      "2021 \n",
      "Kalibrierung die Skala genauer zu betrachten. Es zeigt, dass eine hohe Trefferquote auf Grundlage \n",
      "der Rangordnung nicht gleichbedeutend mit einer sinnvollen Skala ist.  \n",
      "Als am besten geeignete Gewichtung wurde sich auf die Variante „80- 8“ geeinigt. Sie zählt zu den \n",
      "besten Gewichtungen innerhalb des Rasters im Rahmen der Kalibrierung und schneidet am besten \n",
      "gegenüber der Experteneinschätzung ab. Die Klassen - und Star tgewichte werden im Folgenden ge-\n",
      "nauer betrachtet und eingeordnet.  \n",
      "Die Gewichtung der Scha densschwere ist deutlich zweigeteilt ( Bild 61). Die prioritären Schäden mit \n",
      "Schaden sklasse 0 und 1 sind mit den Wichtungsfaktoren 1 und 0,8 versehen. Nachrangige Schäden \n",
      "werden mit maximal 0,25 deutlich geringer gewichtet. Für schwächere Schäden nimmt die Gewich-tung linear ab. Ein SK0-Schaden entspricht 4 SK2-Schäden, ca. 7 SK3-Schäden und 20 SK4-Schäden \n",
      "der gleichen Länge.  \n",
      " \n",
      "Bild 61: Klassengewichte des kalibrierten SubKanS -Modells  \n",
      "Punktschäden werden im Vergleich zu Streckenschäden 8- fach gewichtet. Bei einer festgelegten Ein-\n",
      "zelschadenslänge von 0,30 m bedeutet dies eine Nettoschadenslänge von 2,40 m. Ein Punktschaden \n",
      "trägt damit genauso viel zur Abnutzung bei wie ein gleich schwerer Streckenschaden der Länge 2,40 m. Kürzere Streckenschäden werden im SubKanS -Modell auf diese Länge heraufgesetzt, und \n",
      "können somit niemals eine geringere Schadenslänge annehmen als ein Punktschaden mit gleicher Schadens klasse. Umfangschäden werden mit einem Faktor von 3 gewichtet. Haltungen mit einem \n",
      "Durchmesser von 200 mm, 300 mm und 800  mm führen beispielsweise zu einer Schadenslänge von \n",
      "1,88 m, 2,83  m und 7,54 m.  \n",
      "Dass die Schadenslänge bei Haltungsdurchmessern zwischen 200 und 3 00 mm im Bereich der ge-\n",
      "wichteten Punktschadenslänge liegt, ist kein Zufall. Dieser Durchmesser trat im Projekt-  und Kalib-\n",
      "rierungsdatensatz am häufigsten auf. In den bestehenden Modellen zur Substanzermittlung gab es die Schadensart Umfangschaden nicht. Sie konnte dementsprechend auch nicht durch die Modelle separat kalibriert werden. Stattdessen wurden Umfangschäden so kalibriert, dass sie im häufigsten\n"
     ]
    }
   ],
   "source": [
    "from langchain.vectorstores import FAISS\n",
    "from langchain.embeddings.openai import OpenAIEmbeddings\n",
    "\n",
    "faiss_index = FAISS.from_documents(pages, OpenAIEmbeddings())\n",
    "docs = faiss_index.similarity_search(\"Wie wird die Schadensgewichts berechnet?\", k=2)\n",
    "for doc in docs:\n",
    "    print(str(doc.metadata[\"page\"]) + \":\", doc.page_content)"
   ]
  }
 ],
 "metadata": {
  "kernelspec": {
   "display_name": "Python 3",
   "language": "python",
   "name": "python3"
  },
  "language_info": {
   "codemirror_mode": {
    "name": "ipython",
    "version": 3
   },
   "file_extension": ".py",
   "mimetype": "text/x-python",
   "name": "python",
   "nbconvert_exporter": "python",
   "pygments_lexer": "ipython3",
   "version": "3.10.6"
  },
  "orig_nbformat": 4
 },
 "nbformat": 4,
 "nbformat_minor": 2
}
